{
 "cells": [
  {
   "cell_type": "code",
   "execution_count": 27,
   "metadata": {},
   "outputs": [
    {
     "name": "stdout",
     "output_type": "stream",
     "text": [
      "1\n",
      "3\n",
      "6\n",
      "10\n",
      "15\n",
      "21\n",
      "28\n",
      "36\n",
      "45\n"
     ]
    }
   ],
   "source": [
    "num = 0\n",
    "\n",
    "for i in range(1, 10):\n",
    "    num += i\n",
    "    print(num)"
   ]
  },
  {
   "cell_type": "code",
   "execution_count": 28,
   "metadata": {},
   "outputs": [
    {
     "name": "stdout",
     "output_type": "stream",
     "text": [
      "[1, 4, 9, 16, 25, 36, 49, 64, 81]\n"
     ]
    }
   ],
   "source": [
    "def num():\n",
    "    squares = []\n",
    "    for i in range(1, 10):\n",
    "        squares.append(i**2)\n",
    "    return squares  \n",
    "print(num())"
   ]
  },
  {
   "cell_type": "code",
   "execution_count": 29,
   "metadata": {},
   "outputs": [
    {
     "name": "stdout",
     "output_type": "stream",
     "text": [
      "9\n"
     ]
    }
   ],
   "source": [
    "num = lambda x: x**2\n",
    "print(num(3))\n"
   ]
  },
  {
   "cell_type": "code",
   "execution_count": 30,
   "metadata": {},
   "outputs": [
    {
     "name": "stdout",
     "output_type": "stream",
     "text": [
      "['Hello Ravi', 'Hello Pooja', 'Hello Vijay', 'Hello Kiran']\n"
     ]
    }
   ],
   "source": [
    "names = [\"Ravi\", \"Pooja\", \"Vijay\", \"Kiran\"]\n",
    "names\n",
    "\n",
    "new_list = []\n",
    "for x in names:\n",
    "    new_list.append(\"Hello \" + x)\n",
    "\n",
    "print(new_list)"
   ]
  },
  {
   "cell_type": "code",
   "execution_count": 31,
   "metadata": {},
   "outputs": [
    {
     "name": "stdout",
     "output_type": "stream",
     "text": [
      "1\n",
      "2\n",
      "3\n",
      "4\n",
      "5\n",
      "6\n",
      "7\n",
      "8\n",
      "9\n"
     ]
    }
   ],
   "source": [
    "cube = lambda x: x*3\n",
    "\n",
    "for cube in range(1, 10):\n",
    "    print(cube)"
   ]
  },
  {
   "cell_type": "code",
   "execution_count": 32,
   "metadata": {},
   "outputs": [
    {
     "name": "stdout",
     "output_type": "stream",
     "text": [
      "Hello World\n"
     ]
    }
   ],
   "source": [
    "str = \"Hello World\"\n",
    "lambda x: x[1]\n",
    "print(str)"
   ]
  },
  {
   "cell_type": "markdown",
   "metadata": {},
   "source": [
    "Sure! Here are the lambda functions for each of the tasks:\n",
    "\n",
    "1. **Lambda function that returns the first character of a string:**\n"
   ]
  },
  {
   "cell_type": "code",
   "execution_count": 33,
   "metadata": {},
   "outputs": [
    {
     "name": "stdout",
     "output_type": "stream",
     "text": [
      "H\n"
     ]
    }
   ],
   "source": [
    "first_char = lambda s: s[0]\n",
    "print(first_char(\"Hello\"))  # Output: H"
   ]
  },
  {
   "cell_type": "markdown",
   "metadata": {},
   "source": [
    "\n",
    "\n",
    "2. **Lambda function that checks if a number is greater than 10:**\n"
   ]
  },
  {
   "cell_type": "code",
   "execution_count": 34,
   "metadata": {},
   "outputs": [
    {
     "name": "stdout",
     "output_type": "stream",
     "text": [
      "True\n",
      "False\n"
     ]
    }
   ],
   "source": [
    "greater_than_10 = lambda x: x > 10\n",
    "print(greater_than_10(15))  # Output: True\n",
    "print(greater_than_10(5))   # Output: False"
   ]
  },
  {
   "cell_type": "markdown",
   "metadata": {},
   "source": [
    "\n",
    "\n",
    "3. **Lambda function that returns the last character of a string:**\n"
   ]
  },
  {
   "cell_type": "code",
   "execution_count": 35,
   "metadata": {},
   "outputs": [
    {
     "name": "stdout",
     "output_type": "stream",
     "text": [
      "o\n"
     ]
    }
   ],
   "source": [
    "last_char = lambda s: s[-1]\n",
    "print(last_char(\"Hello\"))  # Output: o"
   ]
  },
  {
   "cell_type": "markdown",
   "metadata": {},
   "source": [
    "\n",
    "\n",
    "4. **Lambda function that takes a list and returns the sum of its elements:**\n"
   ]
  },
  {
   "cell_type": "code",
   "execution_count": 36,
   "metadata": {},
   "outputs": [
    {
     "name": "stdout",
     "output_type": "stream",
     "text": [
      "15\n"
     ]
    }
   ],
   "source": [
    "sum_list = lambda lst: sum(lst)\n",
    "print(sum_list([1, 2, 3, 4, 5]))  # Output: 15"
   ]
  },
  {
   "cell_type": "code",
   "execution_count": 37,
   "metadata": {},
   "outputs": [
    {
     "name": "stdout",
     "output_type": "stream",
     "text": [
      "d\n"
     ]
    }
   ],
   "source": [
    "str = \"Hello World\"\n",
    "last_char = lambda s: s[-1]\n",
    "print(last_char(str))  # Output: d"
   ]
  },
  {
   "cell_type": "code",
   "execution_count": 38,
   "metadata": {},
   "outputs": [
    {
     "data": {
      "text/plain": [
       "[1, 4, 9, 16, 25]"
      ]
     },
     "execution_count": 38,
     "metadata": {},
     "output_type": "execute_result"
    }
   ],
   "source": [
    "map(lambda x: x**2, [1, 2, 3, 4, 5])\n",
    "list(map(lambda x: x**2, [1, 2, 3, 4, 5]))  # Output: [1, 4, 9, 16, 25]"
   ]
  },
  {
   "cell_type": "code",
   "execution_count": 39,
   "metadata": {},
   "outputs": [
    {
     "data": {
      "text/plain": [
       "1.8"
      ]
     },
     "execution_count": 39,
     "metadata": {},
     "output_type": "execute_result"
    }
   ],
   "source": [
    "9/5\n"
   ]
  },
  {
   "cell_type": "code",
   "execution_count": 40,
   "metadata": {},
   "outputs": [
    {
     "data": {
      "text/plain": [
       "18.0"
      ]
     },
     "execution_count": 40,
     "metadata": {},
     "output_type": "execute_result"
    }
   ],
   "source": [
    "10 * 9/5\n"
   ]
  },
  {
   "cell_type": "code",
   "execution_count": null,
   "metadata": {},
   "outputs": [],
   "source": []
  },
  {
   "cell_type": "markdown",
   "metadata": {},
   "source": [
    "Sure! Here are the examples using `map()` with lambda functions for each of the tasks:\n",
    "\n",
    "1. **Convert a list of temperatures from Celsius to Fahrenheit:**\n"
   ]
  },
  {
   "cell_type": "code",
   "execution_count": 41,
   "metadata": {},
   "outputs": [
    {
     "name": "stdout",
     "output_type": "stream",
     "text": [
      "[32.0, 50.0, 68.0, 86.0, 104.0]\n"
     ]
    }
   ],
   "source": [
    "celsius = [0, 10, 20, 30, 40]\n",
    "fahrenheit = list(map(lambda x: (x * 9/5) + 32, celsius))\n",
    "print(fahrenheit)  # Output: [32.0, 50.0, 68.0, 86.0, 104.0]"
   ]
  },
  {
   "cell_type": "markdown",
   "metadata": {},
   "source": [
    "\n",
    "\n",
    "2. **Square each number in a list:**\n"
   ]
  },
  {
   "cell_type": "code",
   "execution_count": 42,
   "metadata": {},
   "outputs": [
    {
     "name": "stdout",
     "output_type": "stream",
     "text": [
      "[1, 4, 9, 16, 25]\n"
     ]
    }
   ],
   "source": [
    "numbers = [1, 2, 3, 4, 5]\n",
    "squared_numbers = list(map(lambda x: x**2, numbers))\n",
    "print(squared_numbers)  # Output: [1, 4, 9, 16, 25]"
   ]
  },
  {
   "cell_type": "markdown",
   "metadata": {},
   "source": [
    "\n",
    "\n",
    "3. **Prepend the string \"Hello, \" to each name in a list of names:**\n"
   ]
  },
  {
   "cell_type": "code",
   "execution_count": 43,
   "metadata": {},
   "outputs": [
    {
     "name": "stdout",
     "output_type": "stream",
     "text": [
      "['Hello, Alice', 'Hello, Bob', 'Hello, Charlie']\n"
     ]
    }
   ],
   "source": [
    "names = [\"Alice\", \"Bob\", \"Charlie\"]\n",
    "greeted_names = list(map(lambda name: f\"Hello, {name}\", names))\n",
    "print(greeted_names)  # Output: ['Hello, Alice', 'Hello, Bob', 'Hello, Charlie']"
   ]
  },
  {
   "cell_type": "markdown",
   "metadata": {},
   "source": [
    "\n",
    "\n",
    "4. **Calculate the length of each string in a list of strings:**\n"
   ]
  },
  {
   "cell_type": "code",
   "execution_count": 44,
   "metadata": {},
   "outputs": [
    {
     "name": "stdout",
     "output_type": "stream",
     "text": [
      "[5, 6, 6]\n"
     ]
    }
   ],
   "source": [
    "strings = [\"apple\", \"banana\", \"cherry\"]\n",
    "lengths = list(map(lambda s: len(s), strings))\n",
    "print(lengths)  # Output: [5, 6, 6]"
   ]
  },
  {
   "cell_type": "markdown",
   "metadata": {},
   "source": [
    "\n",
    "\n",
    "5. **Add 100 to each element in a list of numbers:**\n"
   ]
  },
  {
   "cell_type": "code",
   "execution_count": 2,
   "metadata": {},
   "outputs": [
    {
     "name": "stdout",
     "output_type": "stream",
     "text": [
      "[101, 102, 103, 104, 105]\n"
     ]
    }
   ],
   "source": [
    "numbers = [1, 2, 3, 4, 5]\n",
    "added_numbers = list(map(lambda x: x + 100, numbers))\n",
    "print(added_numbers)  # Output: [101, 102, 103, 104, 105]"
   ]
  },
  {
   "cell_type": "code",
   "execution_count": 46,
   "metadata": {},
   "outputs": [
    {
     "name": "stdout",
     "output_type": "stream",
     "text": [
      "[2, 5]\n"
     ]
    }
   ],
   "source": [
    "numbers = [-1, 2, -3, -4, 5]\n",
    "positive = list(filter(lambda x: x >0, numbers))\n",
    "print(positive)  # Output: [2, 5]"
   ]
  },
  {
   "cell_type": "markdown",
   "metadata": {},
   "source": [
    "Sure! Here are the examples using `filter()` with lambda functions for each of the tasks:\n",
    "\n",
    "1. **Select all even numbers from a list:**\n"
   ]
  },
  {
   "cell_type": "markdown",
   "metadata": {},
   "source": [
    "Sure! Here are the examples using `reduce()` with lambda functions for each of the tasks. Note that `reduce()` is part of the `functools` module, so you need to import it first.\n",
    "\n",
    "1. **Find the maximum number in a list:**\n"
   ]
  },
  {
   "cell_type": "code",
   "execution_count": 47,
   "metadata": {},
   "outputs": [
    {
     "name": "stdout",
     "output_type": "stream",
     "text": [
      "10\n"
     ]
    }
   ],
   "source": [
    "from functools import reduce\n",
    "\n",
    "numbers = [1, 2, 3, 4, 5, 6, 7, 8, 9, 10]\n",
    "max_number = reduce(lambda a, b: a if a > b else b, numbers)\n",
    "print(max_number)  # Output: 10"
   ]
  },
  {
   "cell_type": "markdown",
   "metadata": {},
   "source": [
    "\n",
    "\n",
    "2. **Concatenate a list of strings into a single string:**\n"
   ]
  },
  {
   "cell_type": "code",
   "execution_count": 48,
   "metadata": {},
   "outputs": [
    {
     "name": "stdout",
     "output_type": "stream",
     "text": [
      "Hello world this is Python\n"
     ]
    }
   ],
   "source": [
    "from functools import reduce\n",
    "\n",
    "strings = [\"Hello\", \"world\", \"this\", \"is\", \"Python\"]\n",
    "concatenated_string = reduce(lambda a, b: a + \" \" + b, strings)\n",
    "print(concatenated_string)  # Output: \"Hello world this is Python\""
   ]
  },
  {
   "cell_type": "markdown",
   "metadata": {},
   "source": [
    "\n",
    "\n",
    "3. **Compute the sum of all elements in a list:**\n"
   ]
  },
  {
   "cell_type": "code",
   "execution_count": 49,
   "metadata": {},
   "outputs": [
    {
     "name": "stdout",
     "output_type": "stream",
     "text": [
      "15\n"
     ]
    }
   ],
   "source": [
    "from functools import reduce\n",
    "\n",
    "numbers = [1, 2, 3, 4, 5]\n",
    "sum_of_numbers = reduce(lambda a, b: a + b, numbers)\n",
    "print(sum_of_numbers)  # Output: 15"
   ]
  },
  {
   "cell_type": "markdown",
   "metadata": {},
   "source": [
    "\n",
    "\n",
    "4. **Multiply all elements in a list:**\n"
   ]
  },
  {
   "cell_type": "code",
   "execution_count": 50,
   "metadata": {},
   "outputs": [
    {
     "name": "stdout",
     "output_type": "stream",
     "text": [
      "120\n"
     ]
    }
   ],
   "source": [
    "from functools import reduce\n",
    "\n",
    "numbers = [1, 2, 3, 4, 5]\n",
    "product_of_numbers = reduce(lambda a, b: a * b, numbers)\n",
    "print(product_of_numbers)  # Output: 120"
   ]
  },
  {
   "cell_type": "markdown",
   "metadata": {},
   "source": [
    "\n",
    "\n",
    "5. **Find the minimum number in a list:**\n"
   ]
  },
  {
   "cell_type": "code",
   "execution_count": 51,
   "metadata": {},
   "outputs": [
    {
     "name": "stdout",
     "output_type": "stream",
     "text": [
      "-1\n"
     ]
    }
   ],
   "source": [
    "from functools import reduce\n",
    "\n",
    "numbers = [1, 2, 3, 4, 5, -1, 0]\n",
    "min_number = reduce(lambda a, b: a if a < b else b, numbers)\n",
    "print(min_number)  # Output: -1"
   ]
  },
  {
   "cell_type": "markdown",
   "metadata": {},
   "source": [
    "\n",
    "\n",
    "You can add these code snippets to your prac.ipynb file. Here is how you can include them:\n",
    "\n"
   ]
  },
  {
   "cell_type": "code",
   "execution_count": 52,
   "metadata": {},
   "outputs": [
    {
     "name": "stdout",
     "output_type": "stream",
     "text": [
      "10\n",
      "Hello world this is Python\n",
      "15\n",
      "120\n",
      "-1\n"
     ]
    }
   ],
   "source": [
    "from functools import reduce\n",
    "\n",
    "# Find the maximum number in a list\n",
    "numbers = [1, 2, 3, 4, 5, 6, 7, 8, 9, 10]\n",
    "max_number = reduce(lambda a, b: a if a > b else b, numbers)\n",
    "print(max_number)  # Output: 10\n",
    "\n",
    "# Concatenate a list of strings into a single string\n",
    "strings = [\"Hello\", \"world\", \"this\", \"is\", \"Python\"]\n",
    "concatenated_string = reduce(lambda a, b: a + \" \" + b, strings)\n",
    "print(concatenated_string)  # Output: \"Hello world this is Python\"\n",
    "\n",
    "# Compute the sum of all elements in a list\n",
    "numbers = [1, 2, 3, 4, 5]\n",
    "sum_of_numbers = reduce(lambda a, b: a + b, numbers)\n",
    "print(sum_of_numbers)  # Output: 15\n",
    "\n",
    "# Multiply all elements in a list\n",
    "numbers = [1, 2, 3, 4, 5]\n",
    "product_of_numbers = reduce(lambda a, b: a * b, numbers)\n",
    "print(product_of_numbers)  # Output: 120\n",
    "\n",
    "# Find the minimum number in a list\n",
    "numbers = [1, 2, 3, 4, 5, -1, 0]\n",
    "min_number = reduce(lambda a, b: a if a < b else b, numbers)\n",
    "print(min_number)  # Output: -1"
   ]
  },
  {
   "cell_type": "code",
   "execution_count": 53,
   "metadata": {},
   "outputs": [
    {
     "name": "stdout",
     "output_type": "stream",
     "text": [
      "[2, 4, 6, 8, 10]\n"
     ]
    }
   ],
   "source": [
    "numbers = [1, 2, 3, 4, 5, 6, 7, 8, 9, 10]\n",
    "even_numbers = list(filter(lambda x: x % 2 == 0, numbers))\n",
    "print(even_numbers)  # Output: [2, 4, 6, 8, 10]"
   ]
  },
  {
   "cell_type": "markdown",
   "metadata": {},
   "source": [
    "\n",
    "\n",
    "2. **Get all names that start with the letter 'A' from a list of names:**\n"
   ]
  },
  {
   "cell_type": "code",
   "execution_count": 54,
   "metadata": {},
   "outputs": [
    {
     "name": "stdout",
     "output_type": "stream",
     "text": [
      "['Alice', 'Anna', 'Albert']\n"
     ]
    }
   ],
   "source": [
    "names = [\"Alice\", \"Bob\", \"Charlie\", \"Anna\", \"Albert\"]\n",
    "a_names = list(filter(lambda name: name.startswith('A'), names))\n",
    "print(a_names)  # Output: ['Alice', 'Anna', 'Albert']"
   ]
  },
  {
   "cell_type": "markdown",
   "metadata": {},
   "source": [
    "\n",
    "\n",
    "3. **Extract all strings longer than 5 characters from a list:**\n"
   ]
  },
  {
   "cell_type": "code",
   "execution_count": 55,
   "metadata": {},
   "outputs": [
    {
     "name": "stdout",
     "output_type": "stream",
     "text": [
      "['banana', 'cherry']\n"
     ]
    }
   ],
   "source": [
    "strings = [\"apple\", \"banana\", \"cherry\", \"date\", \"fig\", \"grape\"]\n",
    "long_strings = list(filter(lambda s: len(s) > 5, strings))\n",
    "print(long_strings)  # Output: ['banana', 'cherry']"
   ]
  },
  {
   "cell_type": "markdown",
   "metadata": {},
   "source": [
    "\n",
    "\n",
    "4. **Select numbers greater than 50 from a list:**\n"
   ]
  },
  {
   "cell_type": "code",
   "execution_count": 56,
   "metadata": {},
   "outputs": [
    {
     "name": "stdout",
     "output_type": "stream",
     "text": [
      "[60, 70, 80, 90, 100]\n"
     ]
    }
   ],
   "source": [
    "numbers = [10, 20, 30, 40, 50, 60, 70, 80, 90, 100]\n",
    "greater_than_50 = list(filter(lambda x: x > 50, numbers))\n",
    "print(greater_than_50)  # Output: [60, 70, 80, 90, 100]"
   ]
  },
  {
   "cell_type": "markdown",
   "metadata": {},
   "source": [
    "\n",
    "\n",
    "5. **Get all positive numbers from a list of integers:**\n"
   ]
  },
  {
   "cell_type": "code",
   "execution_count": 57,
   "metadata": {},
   "outputs": [
    {
     "name": "stdout",
     "output_type": "stream",
     "text": [
      "[5, 10, 15, 25]\n"
     ]
    }
   ],
   "source": [
    "integers = [-10, -5, 0, 5, 10, 15, -20, 25]\n",
    "positive_numbers = list(filter(lambda x: x > 0, integers))\n",
    "print(positive_numbers)  # Output: [5, 10, 15, 25]"
   ]
  },
  {
   "cell_type": "code",
   "execution_count": 58,
   "metadata": {},
   "outputs": [
    {
     "name": "stdout",
     "output_type": "stream",
     "text": [
      "['p', 'a', 'h', 'a', 'i', 'r']\n"
     ]
    }
   ],
   "source": [
    "words = [\"apple\", \"banana\", \"cherry\", \"date\", \"fig\", \"grape\"]\n",
    "words_with_a = [word[1] for word in words]\n",
    "print(words_with_a) "
   ]
  },
  {
   "cell_type": "code",
   "execution_count": 59,
   "metadata": {},
   "outputs": [
    {
     "name": "stdout",
     "output_type": "stream",
     "text": [
      "[4, 8, 12, 16, 20]\n"
     ]
    }
   ],
   "source": [
    "a = [1, 2, 3, 4, 5, 6, 7, 8, 9, 10, 11, 12, 13, 14, 15, 16, 17, 18, 19, 20]\n",
    "\n",
    "b = [num for num in a if num % 4 == 0]\n",
    "print(b)"
   ]
  },
  {
   "cell_type": "markdown",
   "metadata": {},
   "source": [
    "Sure! Here are the examples using list comprehensions for each of the tasks:\n",
    "\n",
    "1. **Create a list of squares of numbers from 1 to 10:**\n"
   ]
  },
  {
   "cell_type": "code",
   "execution_count": 60,
   "metadata": {},
   "outputs": [
    {
     "name": "stdout",
     "output_type": "stream",
     "text": [
      "[1, 4, 9, 16, 25, 36, 49, 64, 81, 100]\n"
     ]
    }
   ],
   "source": [
    "squares = [x**2 for x in range(1, 11)]\n",
    "print(squares)  # Output: [1, 4, 9, 16, 25, 36, 49, 64, 81, 100]"
   ]
  },
  {
   "cell_type": "markdown",
   "metadata": {},
   "source": [
    "\n",
    "\n",
    "2. **Filter out all odd numbers from a list:**\n"
   ]
  },
  {
   "cell_type": "code",
   "execution_count": 61,
   "metadata": {},
   "outputs": [
    {
     "name": "stdout",
     "output_type": "stream",
     "text": [
      "[2, 4, 6, 8, 10]\n"
     ]
    }
   ],
   "source": [
    "numbers = [1, 2, 3, 4, 5, 6, 7, 8, 9, 10]\n",
    "even_numbers = [x for x in numbers if x % 2 == 0]\n",
    "print(even_numbers)  # Output: [2, 4, 6, 8, 10]"
   ]
  },
  {
   "cell_type": "markdown",
   "metadata": {},
   "source": [
    "\n",
    "\n",
    "3. **Create a list of strings that are capitalized versions of a given list:**\n"
   ]
  },
  {
   "cell_type": "code",
   "execution_count": 62,
   "metadata": {},
   "outputs": [
    {
     "name": "stdout",
     "output_type": "stream",
     "text": [
      "['Hello', 'World', 'Python', 'Programming']\n"
     ]
    }
   ],
   "source": [
    "words = [\"hello\", \"world\", \"python\", \"programming\"]\n",
    "capitalized_words = [word.capitalize() for word in words]\n",
    "print(capitalized_words)  # Output: ['Hello', 'World', 'Python', 'Programming']"
   ]
  },
  {
   "cell_type": "markdown",
   "metadata": {},
   "source": [
    "\n",
    "\n",
    "4. **Extract the first letter of each word in a list of words:**\n"
   ]
  },
  {
   "cell_type": "code",
   "execution_count": 63,
   "metadata": {},
   "outputs": [
    {
     "name": "stdout",
     "output_type": "stream",
     "text": [
      "['a', 'b', 'c', 'd']\n"
     ]
    }
   ],
   "source": [
    "words = [\"apple\", \"banana\", \"cherry\", \"date\"]\n",
    "first_letters = [word[0] for word in words]\n",
    "print(first_letters)  # Output: ['a', 'b', 'c', 'd']"
   ]
  },
  {
   "cell_type": "markdown",
   "metadata": {},
   "source": [
    "\n",
    "\n",
    "5. **Create a list of numbers from 1 to 20 that are divisible by 4:**\n"
   ]
  },
  {
   "cell_type": "code",
   "execution_count": 64,
   "metadata": {},
   "outputs": [
    {
     "name": "stdout",
     "output_type": "stream",
     "text": [
      "[4, 8, 12, 16, 20]\n"
     ]
    }
   ],
   "source": [
    "divisible_by_4 = [x for x in range(1, 21) if x % 4 == 0]\n",
    "print(divisible_by_4)  # Output: [4, 8, 12, 16, 20]"
   ]
  },
  {
   "cell_type": "markdown",
   "metadata": {},
   "source": [
    "**Date TIme python**\n"
   ]
  },
  {
   "cell_type": "code",
   "execution_count": 4,
   "metadata": {},
   "outputs": [],
   "source": [
    "import csv\n",
    "from datetime import datetime\n",
    "now = datetime.now()\n"
   ]
  },
  {
   "cell_type": "code",
   "execution_count": 66,
   "metadata": {},
   "outputs": [
    {
     "data": {
      "text/plain": [
       "'2025-03-11 17:14:34'"
      ]
     },
     "execution_count": 66,
     "metadata": {},
     "output_type": "execute_result"
    }
   ],
   "source": [
    "now.strftime(\"%Y-%m-%d %H:%M:%S\") # convert datetime to string"
   ]
  },
  {
   "cell_type": "code",
   "execution_count": 67,
   "metadata": {},
   "outputs": [
    {
     "data": {
      "text/plain": [
       "datetime.datetime(2021, 9, 1, 0, 0)"
      ]
     },
     "execution_count": 67,
     "metadata": {},
     "output_type": "execute_result"
    }
   ],
   "source": [
    "now.strptime(\"2021-09-01\", \"%Y-%m-%d\") # convert string to datetime"
   ]
  },
  {
   "cell_type": "code",
   "execution_count": 5,
   "metadata": {},
   "outputs": [
    {
     "name": "stdout",
     "output_type": "stream",
     "text": [
      "Your age is 21\n"
     ]
    }
   ],
   "source": [
    "dob = input('enter your dob :')  # Example date of birth\n",
    "birth_year = datetime.strptime(dob, \"%Y-%m-%d\")\n",
    "\n",
    "age = now.year - birth_year.year\n",
    "print(f'Your age is {age}')"
   ]
  },
  {
   "cell_type": "code",
   "execution_count": null,
   "metadata": {},
   "outputs": [
    {
     "data": {
      "text/html": [
       "<div>\n",
       "<style scoped>\n",
       "    .dataframe tbody tr th:only-of-type {\n",
       "        vertical-align: middle;\n",
       "    }\n",
       "\n",
       "    .dataframe tbody tr th {\n",
       "        vertical-align: top;\n",
       "    }\n",
       "\n",
       "    .dataframe thead th {\n",
       "        text-align: right;\n",
       "    }\n",
       "</style>\n",
       "<table border=\"1\" class=\"dataframe\">\n",
       "  <thead>\n",
       "    <tr style=\"text-align: right;\">\n",
       "      <th></th>\n",
       "      <th>ID</th>\n",
       "      <th>Full Name</th>\n",
       "      <th>Job Title</th>\n",
       "      <th>Department</th>\n",
       "      <th>Gender</th>\n",
       "      <th>Age</th>\n",
       "      <th>Hire Date</th>\n",
       "      <th>Salary</th>\n",
       "      <th>Country</th>\n",
       "      <th>City</th>\n",
       "      <th>Exit Date</th>\n",
       "    </tr>\n",
       "  </thead>\n",
       "  <tbody>\n",
       "    <tr>\n",
       "      <th>0</th>\n",
       "      <td>E02002</td>\n",
       "      <td>Kai Le</td>\n",
       "      <td>Controls Engineer</td>\n",
       "      <td>Engineering</td>\n",
       "      <td>Male</td>\n",
       "      <td>47.0</td>\n",
       "      <td>02/05/22</td>\n",
       "      <td>$92,368</td>\n",
       "      <td>United States</td>\n",
       "      <td>Columbus</td>\n",
       "      <td>NaN</td>\n",
       "    </tr>\n",
       "    <tr>\n",
       "      <th>1</th>\n",
       "      <td>E02003</td>\n",
       "      <td>Robert Patel</td>\n",
       "      <td>Analyst</td>\n",
       "      <td>Sales</td>\n",
       "      <td>Male</td>\n",
       "      <td>58.0</td>\n",
       "      <td>10/23/2013</td>\n",
       "      <td>$45,703</td>\n",
       "      <td>United States</td>\n",
       "      <td>Chicago</td>\n",
       "      <td>NaN</td>\n",
       "    </tr>\n",
       "    <tr>\n",
       "      <th>2</th>\n",
       "      <td>E02004</td>\n",
       "      <td>Cameron Lo</td>\n",
       "      <td>Network Administrator</td>\n",
       "      <td>IT</td>\n",
       "      <td>Male</td>\n",
       "      <td>34.0</td>\n",
       "      <td>3/24/2019</td>\n",
       "      <td>$83,576</td>\n",
       "      <td>China</td>\n",
       "      <td>Shanghai</td>\n",
       "      <td>NaN</td>\n",
       "    </tr>\n",
       "    <tr>\n",
       "      <th>3</th>\n",
       "      <td>E02005</td>\n",
       "      <td>Harper Castillo</td>\n",
       "      <td>IT Systems Architect</td>\n",
       "      <td>IT</td>\n",
       "      <td>Female</td>\n",
       "      <td>39.0</td>\n",
       "      <td>04/07/18</td>\n",
       "      <td>$98,062</td>\n",
       "      <td>United States</td>\n",
       "      <td>Seattle</td>\n",
       "      <td>NaN</td>\n",
       "    </tr>\n",
       "    <tr>\n",
       "      <th>4</th>\n",
       "      <td>E02006</td>\n",
       "      <td>NaN</td>\n",
       "      <td>NaN</td>\n",
       "      <td>NaN</td>\n",
       "      <td>NaN</td>\n",
       "      <td>NaN</td>\n",
       "      <td>NaN</td>\n",
       "      <td>NaN</td>\n",
       "      <td>NaN</td>\n",
       "      <td>Austin</td>\n",
       "      <td>NaN</td>\n",
       "    </tr>\n",
       "    <tr>\n",
       "      <th>5</th>\n",
       "      <td>E02007</td>\n",
       "      <td>NaN</td>\n",
       "      <td>NaN</td>\n",
       "      <td>NaN</td>\n",
       "      <td>NaN</td>\n",
       "      <td>NaN</td>\n",
       "      <td>NaN</td>\n",
       "      <td>NaN</td>\n",
       "      <td>NaN</td>\n",
       "      <td>Phoenix</td>\n",
       "      <td>2/14/2014</td>\n",
       "    </tr>\n",
       "    <tr>\n",
       "      <th>6</th>\n",
       "      <td>E02008</td>\n",
       "      <td>Jade Hu</td>\n",
       "      <td>Sr. Analyst</td>\n",
       "      <td>Accounting</td>\n",
       "      <td>Female</td>\n",
       "      <td>58.0</td>\n",
       "      <td>6/27/2009</td>\n",
       "      <td>$89,744</td>\n",
       "      <td>China</td>\n",
       "      <td>Chongqing</td>\n",
       "      <td>NaN</td>\n",
       "    </tr>\n",
       "    <tr>\n",
       "      <th>7</th>\n",
       "      <td>E02009</td>\n",
       "      <td>Miles Chang</td>\n",
       "      <td>Analyst II</td>\n",
       "      <td>Finance</td>\n",
       "      <td>Male</td>\n",
       "      <td>62.0</td>\n",
       "      <td>2/19/1999</td>\n",
       "      <td>$69,674</td>\n",
       "      <td>China</td>\n",
       "      <td>Chengdu</td>\n",
       "      <td>NaN</td>\n",
       "    </tr>\n",
       "    <tr>\n",
       "      <th>8</th>\n",
       "      <td>E02010</td>\n",
       "      <td>Gianna Holmes</td>\n",
       "      <td>System Administrator†</td>\n",
       "      <td>IT</td>\n",
       "      <td>Female</td>\n",
       "      <td>38.0</td>\n",
       "      <td>09/09/11</td>\n",
       "      <td>$97,630</td>\n",
       "      <td>United States</td>\n",
       "      <td>Seattle</td>\n",
       "      <td>NaN</td>\n",
       "    </tr>\n",
       "    <tr>\n",
       "      <th>9</th>\n",
       "      <td>E02011</td>\n",
       "      <td>Jameson Thomas</td>\n",
       "      <td>Manager</td>\n",
       "      <td>Finance</td>\n",
       "      <td>Male</td>\n",
       "      <td>52.0</td>\n",
       "      <td>02/05/15</td>\n",
       "      <td>$105,879</td>\n",
       "      <td>United States</td>\n",
       "      <td>Miami</td>\n",
       "      <td>NaN</td>\n",
       "    </tr>\n",
       "    <tr>\n",
       "      <th>10</th>\n",
       "      <td>E02012</td>\n",
       "      <td>Jameson Pena</td>\n",
       "      <td>Systems Analyst</td>\n",
       "      <td>IT</td>\n",
       "      <td>Male</td>\n",
       "      <td>49.0</td>\n",
       "      <td>10/12/03</td>\n",
       "      <td>$40,499</td>\n",
       "      <td>United States</td>\n",
       "      <td>Miami</td>\n",
       "      <td>NaN</td>\n",
       "    </tr>\n",
       "    <tr>\n",
       "      <th>11</th>\n",
       "      <td>E02013</td>\n",
       "      <td>Bella Wu</td>\n",
       "      <td>NaN</td>\n",
       "      <td>Finance</td>\n",
       "      <td>Female</td>\n",
       "      <td>63.0</td>\n",
       "      <td>NaN</td>\n",
       "      <td>$71,418</td>\n",
       "      <td>NaN</td>\n",
       "      <td>Phoenix</td>\n",
       "      <td>NaN</td>\n",
       "    </tr>\n",
       "    <tr>\n",
       "      <th>12</th>\n",
       "      <td>E02014</td>\n",
       "      <td>Jose Wong</td>\n",
       "      <td>NaN</td>\n",
       "      <td>IT</td>\n",
       "      <td>Male</td>\n",
       "      <td>45.0</td>\n",
       "      <td>NaN</td>\n",
       "      <td>$150,558</td>\n",
       "      <td>NaN</td>\n",
       "      <td>Chongqing</td>\n",
       "      <td>NaN</td>\n",
       "    </tr>\n",
       "    <tr>\n",
       "      <th>13</th>\n",
       "      <td>E02015</td>\n",
       "      <td>Lucas Richardson</td>\n",
       "      <td>NaN</td>\n",
       "      <td>Marketing</td>\n",
       "      <td>Male</td>\n",
       "      <td>36.0</td>\n",
       "      <td>NaN</td>\n",
       "      <td>$118,912</td>\n",
       "      <td>NaN</td>\n",
       "      <td>Miami</td>\n",
       "      <td>NaN</td>\n",
       "    </tr>\n",
       "    <tr>\n",
       "      <th>14</th>\n",
       "      <td>E02016</td>\n",
       "      <td>Jacob Moore</td>\n",
       "      <td>Sr. Manager</td>\n",
       "      <td>Marketing</td>\n",
       "      <td>Male</td>\n",
       "      <td>42.0</td>\n",
       "      <td>NaN</td>\n",
       "      <td>$131,422</td>\n",
       "      <td>NaN</td>\n",
       "      <td>Phoenix</td>\n",
       "      <td>NaN</td>\n",
       "    </tr>\n",
       "    <tr>\n",
       "      <th>15</th>\n",
       "      <td>E02017</td>\n",
       "      <td>Luna Lu</td>\n",
       "      <td>IT Systems Architect</td>\n",
       "      <td>IT</td>\n",
       "      <td>Female</td>\n",
       "      <td>62.0</td>\n",
       "      <td>NaN</td>\n",
       "      <td>$64,208</td>\n",
       "      <td>United States</td>\n",
       "      <td>Miami</td>\n",
       "      <td>NaN</td>\n",
       "    </tr>\n",
       "    <tr>\n",
       "      <th>16</th>\n",
       "      <td>E02018</td>\n",
       "      <td>Bella Tran</td>\n",
       "      <td>Vice President</td>\n",
       "      <td>Engineering</td>\n",
       "      <td>Female</td>\n",
       "      <td>45.0</td>\n",
       "      <td>NaN</td>\n",
       "      <td>$254,486</td>\n",
       "      <td>China</td>\n",
       "      <td>Chengdu</td>\n",
       "      <td>NaN</td>\n",
       "    </tr>\n",
       "    <tr>\n",
       "      <th>17</th>\n",
       "      <td>E02019</td>\n",
       "      <td>Ivy Chau</td>\n",
       "      <td>Analyst</td>\n",
       "      <td>Sales</td>\n",
       "      <td>Female</td>\n",
       "      <td>61.0</td>\n",
       "      <td>NaN</td>\n",
       "      <td>$54,811</td>\n",
       "      <td>China</td>\n",
       "      <td>Chongqing</td>\n",
       "      <td>NaN</td>\n",
       "    </tr>\n",
       "    <tr>\n",
       "      <th>18</th>\n",
       "      <td>E02020</td>\n",
       "      <td>Jordan Kumar</td>\n",
       "      <td>Service Desk Analyst</td>\n",
       "      <td>IT</td>\n",
       "      <td>Male</td>\n",
       "      <td>29.0</td>\n",
       "      <td>11/11/17</td>\n",
       "      <td>$95,729</td>\n",
       "      <td>United States</td>\n",
       "      <td>Seattle</td>\n",
       "      <td>NaN</td>\n",
       "    </tr>\n",
       "    <tr>\n",
       "      <th>19</th>\n",
       "      <td>E02021</td>\n",
       "      <td>Sophia Gutierrez</td>\n",
       "      <td>Manager</td>\n",
       "      <td>Accounting</td>\n",
       "      <td>Female</td>\n",
       "      <td>63.0</td>\n",
       "      <td>02/08/09</td>\n",
       "      <td>$102,649</td>\n",
       "      <td>United States</td>\n",
       "      <td>Austin</td>\n",
       "      <td>NaN</td>\n",
       "    </tr>\n",
       "    <tr>\n",
       "      <th>20</th>\n",
       "      <td>E02022</td>\n",
       "      <td>Eli Dang</td>\n",
       "      <td>Sr. Manager</td>\n",
       "      <td>Accounting</td>\n",
       "      <td>Male</td>\n",
       "      <td>45.0</td>\n",
       "      <td>11/16/2015</td>\n",
       "      <td>$122,875</td>\n",
       "      <td>United States</td>\n",
       "      <td>Chicago</td>\n",
       "      <td>NaN</td>\n",
       "    </tr>\n",
       "    <tr>\n",
       "      <th>21</th>\n",
       "      <td>E02023</td>\n",
       "      <td>Lillian Lewis</td>\n",
       "      <td>Technical Architect</td>\n",
       "      <td>IT</td>\n",
       "      <td>Female</td>\n",
       "      <td>43.0</td>\n",
       "      <td>8/14/2013</td>\n",
       "      <td>$83,323</td>\n",
       "      <td>United States</td>\n",
       "      <td>Phoenix</td>\n",
       "      <td>3/31/2019</td>\n",
       "    </tr>\n",
       "    <tr>\n",
       "      <th>22</th>\n",
       "      <td>E02024</td>\n",
       "      <td>Serenity Cao</td>\n",
       "      <td>Account Representative</td>\n",
       "      <td>Sales</td>\n",
       "      <td>Female</td>\n",
       "      <td>31.0</td>\n",
       "      <td>10/21/2018</td>\n",
       "      <td>$66,721</td>\n",
       "      <td>China</td>\n",
       "      <td>Shanghai</td>\n",
       "      <td>NaN</td>\n",
       "    </tr>\n",
       "  </tbody>\n",
       "</table>\n",
       "</div>"
      ],
      "text/plain": [
       "        ID         Full Name               Job Title   Department  Gender  \\\n",
       "0   E02002            Kai Le       Controls Engineer  Engineering    Male   \n",
       "1   E02003      Robert Patel                 Analyst        Sales    Male   \n",
       "2   E02004        Cameron Lo   Network Administrator           IT    Male   \n",
       "3   E02005   Harper Castillo    IT Systems Architect           IT  Female   \n",
       "4   E02006               NaN                     NaN          NaN     NaN   \n",
       "5   E02007               NaN                     NaN          NaN     NaN   \n",
       "6   E02008           Jade Hu             Sr. Analyst   Accounting  Female   \n",
       "7   E02009       Miles Chang              Analyst II      Finance    Male   \n",
       "8   E02010     Gianna Holmes   System Administrator†           IT  Female   \n",
       "9   E02011    Jameson Thomas                 Manager      Finance    Male   \n",
       "10  E02012      Jameson Pena         Systems Analyst           IT    Male   \n",
       "11  E02013          Bella Wu                     NaN      Finance  Female   \n",
       "12  E02014         Jose Wong                     NaN           IT    Male   \n",
       "13  E02015  Lucas Richardson                     NaN    Marketing    Male   \n",
       "14  E02016       Jacob Moore             Sr. Manager    Marketing    Male   \n",
       "15  E02017           Luna Lu    IT Systems Architect           IT  Female   \n",
       "16  E02018        Bella Tran          Vice President  Engineering  Female   \n",
       "17  E02019          Ivy Chau                 Analyst        Sales  Female   \n",
       "18  E02020      Jordan Kumar    Service Desk Analyst           IT    Male   \n",
       "19  E02021  Sophia Gutierrez                 Manager   Accounting  Female   \n",
       "20  E02022          Eli Dang             Sr. Manager   Accounting    Male   \n",
       "21  E02023     Lillian Lewis     Technical Architect           IT  Female   \n",
       "22  E02024      Serenity Cao  Account Representative        Sales  Female   \n",
       "\n",
       "     Age   Hire Date     Salary        Country       City  Exit Date  \n",
       "0   47.0    02/05/22   $92,368   United States   Columbus        NaN  \n",
       "1   58.0  10/23/2013   $45,703   United States    Chicago        NaN  \n",
       "2   34.0   3/24/2019   $83,576           China   Shanghai        NaN  \n",
       "3   39.0    04/07/18   $98,062   United States    Seattle        NaN  \n",
       "4    NaN         NaN        NaN            NaN     Austin        NaN  \n",
       "5    NaN         NaN        NaN            NaN    Phoenix  2/14/2014  \n",
       "6   58.0   6/27/2009   $89,744           China  Chongqing        NaN  \n",
       "7   62.0   2/19/1999   $69,674           China    Chengdu        NaN  \n",
       "8   38.0    09/09/11   $97,630   United States    Seattle        NaN  \n",
       "9   52.0    02/05/15  $105,879   United States      Miami        NaN  \n",
       "10  49.0    10/12/03   $40,499   United States      Miami        NaN  \n",
       "11  63.0         NaN   $71,418             NaN    Phoenix        NaN  \n",
       "12  45.0         NaN  $150,558             NaN  Chongqing        NaN  \n",
       "13  36.0         NaN  $118,912             NaN      Miami        NaN  \n",
       "14  42.0         NaN  $131,422             NaN    Phoenix        NaN  \n",
       "15  62.0         NaN   $64,208   United States      Miami        NaN  \n",
       "16  45.0         NaN  $254,486           China    Chengdu        NaN  \n",
       "17  61.0         NaN   $54,811           China  Chongqing        NaN  \n",
       "18  29.0    11/11/17   $95,729   United States    Seattle        NaN  \n",
       "19  63.0    02/08/09  $102,649   United States     Austin        NaN  \n",
       "20  45.0  11/16/2015  $122,875   United States    Chicago        NaN  \n",
       "21  43.0   8/14/2013   $83,323   United States    Phoenix  3/31/2019  \n",
       "22  31.0  10/21/2018   $66,721           China   Shanghai        NaN  "
      ]
     },
     "metadata": {},
     "output_type": "display_data"
    }
   ],
   "source": [
    "import pandas as pd\n",
    "data = pd.read_csv('day16_emp_data.csv')\n",
    "\n",
    "display(data)"
   ]
  },
  {
   "cell_type": "code",
   "execution_count": null,
   "metadata": {},
   "outputs": [
    {
     "name": "stdout",
     "output_type": "stream",
     "text": [
      "None\n"
     ]
    }
   ],
   "source": [
    "# data_id = data.set_index('ID')\n",
    "\n",
    "data_new = data_id.to_excel('day16_emp_data.xlsx')\n",
    "print(data_new)\n"
   ]
  },
  {
   "cell_type": "code",
   "execution_count": null,
   "metadata": {},
   "outputs": [
    {
     "name": "stdout",
     "output_type": "stream",
     "text": [
      "1\n",
      "2\n",
      "3\n",
      "4\n",
      "5\n"
     ]
    }
   ],
   "source": [
    "def count_up_to(n):\n",
    "  \"\"\"Yields numbers from 1 to n.\"\"\"\n",
    "  for i in range(1, n + 1):\n",
    "    yield i\n",
    "\n",
    "for number in count_up_to(5):\n",
    "  print(number) # Output: 1 2 3 4 5"
   ]
  },
  {
   "cell_type": "code",
   "execution_count": 2,
   "metadata": {},
   "outputs": [
    {
     "name": "stdout",
     "output_type": "stream",
     "text": [
      "Total words: 5\n"
     ]
    }
   ],
   "source": [
    "story = input(\"Enter a story\")\n",
    "words = story.strip('')           # Remove leading and trailing spaces\n",
    "words = words.replace(',', ' ')  # Replace commas with spaces\n",
    " \n",
    "store_list = words.split(' ')\n",
    "\n",
    "result = len(store_list)\n",
    "print(f\"Total words: {result}\")\n",
    "\n"
   ]
  },
  {
   "cell_type": "code",
   "execution_count": null,
   "metadata": {},
   "outputs": [
    {
     "name": "stdout",
     "output_type": "stream",
     "text": [
      "dlroW olleH\n"
     ]
    }
   ],
   "source": [
    "str = \"Hello World\"\n",
    "\n",
    "rev = \"\"\n",
    "\n",
    "num = len(str)-1\n",
    "# print(num)    # \n",
    "\n",
    "while num >= 0:         # This loop iterates backwards through the string till it reaches the beginning.\n",
    "    rev += str[num]     # what it does? Answers: It appends the character at index num to the rev string.\n",
    "    num -= 1            # This decrements num by 1 to move to the previous character in the string.\n",
    "print(rev)\n"
   ]
  },
  {
   "cell_type": "code",
   "execution_count": null,
   "metadata": {},
   "outputs": [],
   "source": []
  }
 ],
 "metadata": {
  "kernelspec": {
   "display_name": "Python 3",
   "language": "python",
   "name": "python3"
  },
  "language_info": {
   "codemirror_mode": {
    "name": "ipython",
    "version": 3
   },
   "file_extension": ".py",
   "mimetype": "text/x-python",
   "name": "python",
   "nbconvert_exporter": "python",
   "pygments_lexer": "ipython3",
   "version": "3.10.4"
  }
 },
 "nbformat": 4,
 "nbformat_minor": 2
}
