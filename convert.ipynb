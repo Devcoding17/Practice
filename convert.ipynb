{
 "cells": [
  {
   "cell_type": "code",
   "execution_count": 1,
   "id": "a1e0620b",
   "metadata": {},
   "outputs": [
    {
     "ename": "ModuleNotFoundError",
     "evalue": "No module named 'canmatrix'",
     "output_type": "error",
     "traceback": [
      "\u001b[1;31m---------------------------------------------------------------------------\u001b[0m",
      "\u001b[1;31mModuleNotFoundError\u001b[0m                       Traceback (most recent call last)",
      "Cell \u001b[1;32mIn[1], line 1\u001b[0m\n\u001b[1;32m----> 1\u001b[0m \u001b[38;5;28;01mimport\u001b[39;00m \u001b[38;5;21;01mcanmatrix\u001b[39;00m\n\u001b[0;32m      2\u001b[0m \u001b[38;5;28;01mimport\u001b[39;00m \u001b[38;5;21;01mjson\u001b[39;00m\n\u001b[0;32m      4\u001b[0m \u001b[38;5;66;03m# Load the DBC file\u001b[39;00m\n",
      "\u001b[1;31mModuleNotFoundError\u001b[0m: No module named 'canmatrix'"
     ]
    }
   ],
   "source": [
    "import canmatrix\n",
    "import json\n",
    "\n",
    "# Load the DBC file\n",
    "db = canmatrix.loadp_flat('ApacheSparkGuide.dbc')\n",
    "\n",
    "# Convert to JSON (which can be used in a Notebook)\n",
    "with open('file.json', 'w') as f:\n",
    "    json.dump(db, f)"
   ]
  },
  {
   "cell_type": "code",
   "execution_count": null,
   "id": "71b3d4a5",
   "metadata": {},
   "outputs": [],
   "source": [
    "pip install pyreadstat"
   ]
  },
  {
   "cell_type": "code",
   "execution_count": 6,
   "id": "86d7a2fa",
   "metadata": {},
   "outputs": [
    {
     "ename": "ReadstatError",
     "evalue": "Invalid file, or file has unsupported features",
     "output_type": "error",
     "traceback": [
      "\u001b[1;31m---------------------------------------------------------------------------\u001b[0m",
      "\u001b[1;31mReadstatError\u001b[0m                             Traceback (most recent call last)",
      "Cell \u001b[1;32mIn[6], line 5\u001b[0m\n\u001b[0;32m      1\u001b[0m \u001b[38;5;28;01mimport\u001b[39;00m \u001b[38;5;21;01mpandas\u001b[39;00m \u001b[38;5;28;01mas\u001b[39;00m \u001b[38;5;21;01mpd\u001b[39;00m\n\u001b[0;32m      3\u001b[0m \u001b[38;5;28;01mimport\u001b[39;00m \u001b[38;5;21;01mpyreadstat\u001b[39;00m\n\u001b[1;32m----> 5\u001b[0m df, meta \u001b[38;5;241m=\u001b[39m \u001b[43mpyreadstat\u001b[49m\u001b[38;5;241;43m.\u001b[39;49m\u001b[43mread_sas7bdat\u001b[49m\u001b[43m(\u001b[49m\u001b[38;5;124;43m'\u001b[39;49m\u001b[38;5;124;43mApacheSparkGuide.dbc\u001b[39;49m\u001b[38;5;124;43m'\u001b[39;49m\u001b[43m)\u001b[49m\n\u001b[0;32m      7\u001b[0m df\u001b[38;5;241m.\u001b[39mto_csv(\u001b[38;5;124m'\u001b[39m\u001b[38;5;124mfile.csv\u001b[39m\u001b[38;5;124m'\u001b[39m)\n\u001b[0;32m      8\u001b[0m \u001b[38;5;66;03m# You can now load this CSV in a Jupyter Notebook\u001b[39;00m\n",
      "File \u001b[1;32mpyreadstat/pyreadstat.pyx:131\u001b[0m, in \u001b[0;36mpyreadstat.pyreadstat.read_sas7bdat\u001b[1;34m()\u001b[0m\n",
      "File \u001b[1;32mpyreadstat/_readstat_parser.pyx:1176\u001b[0m, in \u001b[0;36mpyreadstat._readstat_parser.run_conversion\u001b[1;34m()\u001b[0m\n",
      "File \u001b[1;32mpyreadstat/_readstat_parser.pyx:909\u001b[0m, in \u001b[0;36mpyreadstat._readstat_parser.run_readstat_parser\u001b[1;34m()\u001b[0m\n",
      "File \u001b[1;32mpyreadstat/_readstat_parser.pyx:831\u001b[0m, in \u001b[0;36mpyreadstat._readstat_parser.check_exit_status\u001b[1;34m()\u001b[0m\n",
      "\u001b[1;31mReadstatError\u001b[0m: Invalid file, or file has unsupported features"
     ]
    }
   ],
   "source": [
    "import pandas as pd\n",
    "\n",
    "import pyreadstat\n",
    "\n",
    "df, meta = pyreadstat.read_sas7bdat('ApacheSparkGuide.dbc')\n",
    "\n",
    "df.to_csv('file.csv')\n",
    "# You can now load this CSV in a Jupyter Notebook"
   ]
  },
  {
   "cell_type": "code",
   "execution_count": 6,
   "id": "f3947797",
   "metadata": {},
   "outputs": [
    {
     "name": "stdout",
     "output_type": "stream",
     "text": [
      "[10, 9, 8, 7, 6, 5, 4, 3, 2, 1]\n"
     ]
    }
   ],
   "source": [
    "list = [1,2,3,4,5,6,7,8,9,10]\n",
    "list.reverse()\n",
    "print(list)"
   ]
  },
  {
   "cell_type": "code",
   "execution_count": 9,
   "id": "4bfa44ca",
   "metadata": {},
   "outputs": [
    {
     "name": "stdout",
     "output_type": "stream",
     "text": [
      "(10, 9, 8, 7, 6, 5, 4, 3, 2, 1)\n"
     ]
    }
   ],
   "source": [
    "tuple = (1, 2, 3, 4, 5, 6, 7, 8, 9, 10)\n",
    "tuple = tuple[::-1]\n",
    "print(tuple)        "
   ]
  },
  {
   "cell_type": "code",
   "execution_count": 2,
   "id": "0433d58e",
   "metadata": {},
   "outputs": [
    {
     "name": "stdout",
     "output_type": "stream",
     "text": [
      "[55, 87, 99]\n",
      "[32, 10, 54, 32]\n",
      "[(55, 3025), (87, 7569), (99, 9801)]\n"
     ]
    }
   ],
   "source": [
    "\n",
    "numbers = [55, 32, 87, 99, 10, 54, 32]\n",
    "even = [num for num in numbers if num % 2 == 0]\n",
    "odd = [num for num in numbers if num % 2 == 1]\n",
    "print(odd)\n",
    "print(even)\n",
    "\n",
    "odd_squares = [(num, num * num) for num in numbers if num % 2 == 1]\n",
    "print(odd_squares)"
   ]
  },
  {
   "cell_type": "markdown",
   "id": "61b5cffc",
   "metadata": {},
   "source": [
    "Default Arguments / Keyword Arguments \n",
    "Default arguments are those arguments which can be changed but their value remains the same if not given. An example of the same is given below.\n"
   ]
  },
  {
   "cell_type": "code",
   "execution_count": 13,
   "id": "b1863bb5",
   "metadata": {},
   "outputs": [
    {
     "name": "stdout",
     "output_type": "stream",
     "text": [
      "2\n",
      "10\n"
     ]
    }
   ],
   "source": [
    "def double_the_number(num=1):\n",
    "    return num * 2\n",
    "\n",
    "print(double_the_number())\n",
    "\n",
    "def double_the_number(num=1):\n",
    "    return num * 2\n",
    "print(double_the_number(5))"
   ]
  },
  {
   "cell_type": "markdown",
   "id": "e65be9e7",
   "metadata": {},
   "source": [
    "**Positional arguments** are those which are not followed by an equal sign (=) and default value. In this we need to provide an argument while calling the function, else we get an error. Here is an example below\n"
   ]
  },
  {
   "cell_type": "code",
   "execution_count": 3,
   "id": "1eea9c06",
   "metadata": {},
   "outputs": [
    {
     "name": "stdout",
     "output_type": "stream",
     "text": [
      "2\n",
      "16\n"
     ]
    }
   ],
   "source": [
    "def double_the_number(num):\n",
    "    return num*2\n",
    "\n",
    "print(double_the_number(1))\n",
    "print(double_the_number(8))"
   ]
  },
  {
   "cell_type": "code",
   "execution_count": 3,
   "id": "2fe70855",
   "metadata": {},
   "outputs": [
    {
     "data": {
      "text/plain": [
       "1"
      ]
     },
     "execution_count": 3,
     "metadata": {},
     "output_type": "execute_result"
    }
   ],
   "source": [
    "my_Dict = {'a':1, 'b':2, 'c':3, 'd':4, 'e':5}\n",
    "my_Dict.get('a', 0) \n",
    "             # Returns 1\n",
    "# my_Dict.get('f', 0)  # Returns 0 since 'f' is not in the dictionary\n",
    "\n"
   ]
  },
  {
   "cell_type": "code",
   "execution_count": 16,
   "id": "7c6aee89",
   "metadata": {},
   "outputs": [
    {
     "name": "stdout",
     "output_type": "stream",
     "text": [
      "('name', 'age', 'height', 'asdas', 'aasd')\n"
     ]
    }
   ],
   "source": [
    "def database_columns(*args):\n",
    "    # for arg in args:\n",
    "        print(args)\n",
    "\n",
    "database_columns(\"name\", \"age\", \"height\",'asdas', 'aasd')"
   ]
  },
  {
   "cell_type": "code",
   "execution_count": null,
   "id": "449f4cb8",
   "metadata": {},
   "outputs": [
    {
     "name": "stdout",
     "output_type": "stream",
     "text": [
      "name\n",
      "age\n",
      "height\n",
      "weight\n",
      "dict_keys(['name', 'age', 'height', 'weight'])\n",
      "dict_values(['John', 30, 5.9, 70])\n",
      "dict_items([('name', 'John'), ('age', 30), ('height', 5.9), ('weight', 70)])\n",
      "{'name': 'John', 'age': 30, 'height': 5.9, 'weight': 70}\n"
     ]
    }
   ],
   "source": [
    "def database_columns(**args):\n",
    "    for arg in args:\n",
    "        print(arg)\n",
    "\n",
    "database_columns(name=\"John\", age=30, height=5.9, weight=70)\n",
    "\n",
    "def database_columns(**kwargs):\n",
    "    # for key, value in args.items():\n",
    "    #     print(f\"{key}: {value}\")\n",
    "    print(kwargs.keys())\n",
    "    print(kwargs.values())\n",
    "    print(kwargs.items())\n",
    "    print(kwargs)\n",
    "    p\n",
    "\n",
    "database_columns(name=\"John\", age=30, height=5.9, weight=70)\n",
    "\n",
    "\n"
   ]
  },
  {
   "cell_type": "markdown",
   "id": "a3d6863f",
   "metadata": {},
   "source": [
    "**SYNTAX FOR MAP, FILTER, REDUCE** \n",
    "\n",
    "map(function, iterable)"
   ]
  },
  {
   "cell_type": "code",
   "execution_count": 47,
   "id": "f96fae1b",
   "metadata": {},
   "outputs": [
    {
     "name": "stdout",
     "output_type": "stream",
     "text": [
      "[None, 2, None, 4, None, 6, None, 8, None, 10]\n"
     ]
    }
   ],
   "source": [
    "my_list = [1, 2, 3, 4, 5, 6, 7, 8, 9, 10]\n",
    "\n",
    "def num(n):\n",
    "    if n % 2 == 0:\n",
    "        return n\n",
    "\n",
    "even = list(map(num, my_list))\n",
    "\n",
    "print(even)\n",
    "\n"
   ]
  },
  {
   "cell_type": "code",
   "execution_count": 46,
   "id": "0f82cac2",
   "metadata": {},
   "outputs": [
    {
     "name": "stdout",
     "output_type": "stream",
     "text": [
      "(2, 4, 6, 8, 10)\n"
     ]
    }
   ],
   "source": [
    "# Filter\n",
    "my_list = [1, 2, 3, 4, 5, 6, 7, 8, 9, 10]\n",
    "\n",
    "def num(n):\n",
    "    if n % 2 == 0:\n",
    "        return n\n",
    "\n",
    "even = tuple(filter(num, my_list))\n",
    "\n",
    "print(even)"
   ]
  },
  {
   "cell_type": "code",
   "execution_count": null,
   "id": "d448c447",
   "metadata": {},
   "outputs": [
    {
     "name": "stdout",
     "output_type": "stream",
     "text": [
      "0 a\n",
      "a\n",
      "1 b\n",
      "b\n",
      "2 c\n",
      "c\n",
      "3 d\n",
      "d\n",
      "4 e\n",
      "e\n"
     ]
    }
   ],
   "source": [
    "### Enumerate\n",
    "\n",
    "my_list = ['a', 'b', 'c', 'd', 'e']\n",
    "for index, value in enumerate(my_list):\n",
    "    # /print(value)\n",
    "    print(index, value)\n"
   ]
  },
  {
   "cell_type": "code",
   "execution_count": null,
   "id": "d3cf4150",
   "metadata": {},
   "outputs": [
    {
     "name": "stdout",
     "output_type": "stream",
     "text": [
      "Hello, alice!\n"
     ]
    }
   ],
   "source": [
    "class Student:\n",
    "    # class variables\n",
    "    school_name = 'ABC School'\n",
    "\n",
    "    # constructor\n",
    "    def __init__(self, name, age):\n",
    "        # instance variables\n",
    "        self.name = name\n",
    "        self.age = age\n",
    "\n",
    "    # instance variables\n",
    "    def show(self):\n",
    "        print(self.name, self.age, Student.school_name)\n",
    "\n",
    "    @classmethod\n",
    "    def change_School(self, name):\n",
    "        self.school_name = name\n",
    "\n",
    "    @staticmethod\n",
    "    def find_notes(subject_name):\n",
    "        subject_name = ['Math', 'Science', 'English']\n",
    "        return ['chapter 1', 'chapter 2', 'chapter 3']\n",
    "        print(subject_name)\n",
    "\n",
    "# Example of a simple function\n",
    "def greet(name):\n",
    "    return f\"Hello, {name}!\"\n",
    "# Example of a simple class\n",
    "class Person:\n",
    "    def __init__(self, name):\n",
    "        self.name = name\n",
    "\n",
    "    def introduce(self):\n",
    "        return f\"My name is {self.name}.\"\n",
    "# Example of using the function and class\n",
    "\n",
    "\n",
    "person = Person('alice')\n",
    "print(greet(person.name))  # Output: Hello, alice!\n",
    "\n",
    "\n",
    "\n"
   ]
  },
  {
   "cell_type": "code",
   "execution_count": 19,
   "id": "78c7e6ed",
   "metadata": {},
   "outputs": [
    {
     "name": "stdout",
     "output_type": "stream",
     "text": [
      "Darshil 20 XYZ School\n"
     ]
    }
   ],
   "source": [
    "darshil = Student('Darshil', 20)\n",
    "\n",
    "# darshil.show()\n",
    "\n",
    "darshil.find_notes(subject_name='Math')\n",
    "darshil.change_School('XYZ School')\n",
    "\n",
    "darshil.show()\n"
   ]
  },
  {
   "cell_type": "code",
   "execution_count": 22,
   "id": "85d0afae",
   "metadata": {},
   "outputs": [
    {
     "name": "stdout",
     "output_type": "stream",
     "text": [
      "[[ 1 23  2]\n",
      " [46 26 34]\n",
      " [44 37 24]\n",
      " [21 24 23]]\n"
     ]
    }
   ],
   "source": [
    "# 10 random integers upto 50 (exclusive). This makes the start value default to 0.\n",
    "# The size parameter dictates the return array shape\n",
    "import numpy as np\n",
    "df = np.random.randint(50, size=(4,3))\n",
    "\n",
    "print(df)\n"
   ]
  },
  {
   "cell_type": "code",
   "execution_count": null,
   "id": "e938dfe5",
   "metadata": {},
   "outputs": [
    {
     "name": "stdout",
     "output_type": "stream",
     "text": [
      "[[1 2 3]\n",
      " [4 5 6]\n",
      " [7 8 9]]\n",
      "(3, 3)\n",
      "int32\n"
     ]
    }
   ],
   "source": [
    "import numpy as np\n",
    "\n",
    "# Create a 2D array with random integers\n",
    "list = [1,2,3],[4,5,6],[7,8,9]\n",
    "array_2d = np.array(list)\n",
    "print(array_2d)\n",
    "\n",
    "print(array_2d.shape)  # Output: (3, 3)\n",
    "print(array_2d.dtype)  # Output: int64 (or int32 depending on the system)\n",
    "# Accessing elements\n",
    "\n",
    "\n"
   ]
  },
  {
   "cell_type": "code",
   "execution_count": null,
   "id": "7093d2c2",
   "metadata": {},
   "outputs": [
    {
     "name": "stdout",
     "output_type": "stream",
     "text": [
      "[10 20 30]\n",
      "[10 20 30]\n"
     ]
    }
   ],
   "source": [
    "import numpy as np\n",
    "\n",
    "# From list: 1d array\n",
    "my_list = [10, 20, 30]\n",
    "np.array(my_list)  # Convert list to numpy array\n",
    "print(np.array(my_list))\n",
    "# From tuple: 1d array\n",
    "my_tuple = (10, 20, 30)\n",
    "my = np.array(my_tuple)  # Convert tuple to numpy array\n",
    "print(my) #\n",
    "my.sjhape = (3, 1)  # Reshape to a 2D array with 3 rows and 1 column\n"
   ]
  },
  {
   "cell_type": "code",
   "execution_count": 33,
   "id": "0d657dcc",
   "metadata": {},
   "outputs": [
    {
     "data": {
      "text/plain": [
       "(3, 3)"
      ]
     },
     "execution_count": 33,
     "metadata": {},
     "output_type": "execute_result"
    }
   ],
   "source": [
    "list_of_lists =  [[5, 10, 15], [20, 25, 30], [35, 40, 45]]\n",
    "twod_array = np.array(list_of_lists)\n",
    "\n",
    "twod_array.shape"
   ]
  },
  {
   "cell_type": "code",
   "execution_count": 35,
   "id": "725eefec",
   "metadata": {},
   "outputs": [
    {
     "data": {
      "text/plain": [
       "(3, 3)"
      ]
     },
     "execution_count": 35,
     "metadata": {},
     "output_type": "execute_result"
    }
   ],
   "source": [
    "# From list: 2d array\n",
    "list_of_lists =  [[5, 10, 15], [20, 25, 30], [35, 40, 45]]\n",
    "np.array(list_of_lists)\n",
    "np.array(list_of_lists).shape  # Output: (3, 3)"
   ]
  },
  {
   "cell_type": "code",
   "execution_count": null,
   "id": "13760ae7",
   "metadata": {},
   "outputs": [
    {
     "name": "stdout",
     "output_type": "stream",
     "text": [
      "(2, 2, 2)\n"
     ]
    },
    {
     "data": {
      "text/plain": [
       "array([[[1, 2],\n",
       "        [3, 4]],\n",
       "\n",
       "       [[5, 6],\n",
       "        [7, 8]]])"
      ]
     },
     "execution_count": 37,
     "metadata": {},
     "output_type": "execute_result"
    }
   ],
   "source": [
    "d_array = np.array([[[1, 2], [3, 4]], [[5, 6], [7, 8]]])\n",
    "print(d_array.shape)  # Output: (2, 2, 2)\n",
    "np.array(d_array)\n"
   ]
  },
  {
   "cell_type": "code",
   "execution_count": 2,
   "id": "7296e4fe",
   "metadata": {},
   "outputs": [
    {
     "name": "stdout",
     "output_type": "stream",
     "text": [
      "1D array:\n",
      " [1 2 3 4 5]\n",
      "(5,)\n",
      "\n",
      "2D array:\n",
      " [[1 2 3]\n",
      " [4 5 6]]\n",
      "\n",
      "3D array:\n",
      " [[[1 2]\n",
      "  [3 4]]\n",
      "\n",
      " [[5 6]\n",
      "  [7 8]]]\n"
     ]
    }
   ],
   "source": [
    "import numpy as np\n",
    "\n",
    "# 1D array\n",
    "array_1d = np.array([1, 2, 3, 4, 5])\n",
    "print(\"1D array:\\n\", array_1d)\n",
    "print(array_1d.shape)\n",
    "\n",
    "# 2D array\n",
    "array_2d = np.array([[1, 2, 3], [4, 5, 6]])\n",
    "print(\"\\n2D array:\\n\", array_2d)\n",
    "\n",
    "\n",
    "# 3D array\n",
    "array_3d = np.array([[[1, 2], [3, 4]], [[5, 6], [7, 8]]])\n",
    "print(\"\\n3D array:\\n\", array_3d)"
   ]
  },
  {
   "cell_type": "code",
   "execution_count": 6,
   "id": "2a6d8cec",
   "metadata": {},
   "outputs": [
    {
     "name": "stdout",
     "output_type": "stream",
     "text": [
      "0    10\n",
      "1    20\n",
      "2    30\n",
      "dtype: int64\n",
      "RangeIndex(start=0, stop=3, step=1)\n",
      "[10 20 30]\n"
     ]
    }
   ],
   "source": [
    "#creating a pandas series from a list\n",
    "import pandas as pd\n",
    "\n",
    "my_list = [10, 20, 30]\n",
    "series = pd.Series(my_list)\n",
    "\n",
    "print(series)\n",
    "print(series.index)\n",
    "print(series.values)"
   ]
  },
  {
   "cell_type": "code",
   "execution_count": 10,
   "id": "8f103bc6",
   "metadata": {},
   "outputs": [
    {
     "data": {
      "text/plain": [
       "a    10\n",
       "b    20\n",
       "c    30\n",
       "dtype: int32"
      ]
     },
     "execution_count": 10,
     "metadata": {},
     "output_type": "execute_result"
    }
   ],
   "source": [
    "# creating a series from numPy Array\n",
    "import numpy as np\n",
    "import pandas as pd\n",
    "\n",
    "index = ['a','b','c']\n",
    "arr = np.array([10,20,30])\n",
    "\n",
    "pd.Series(data=arr,index=index) \n",
    "\n",
    "# creating a series from dictionary\n",
    "# import pandas as pd\n",
    "\n",
    "# d = {'a':10, 'b':20, 'c':30}\n",
    "# pd.Series(d)"
   ]
  },
  {
   "cell_type": "markdown",
   "id": "6c3d62bf",
   "metadata": {},
   "source": [
    "Note that dump() takes two positional arguments:\n",
    "\n",
    "the data object to be serialized, and\n",
    "the file-like object to which the bytes will be written."
   ]
  },
  {
   "cell_type": "code",
   "execution_count": 1,
   "id": "b0ba658a",
   "metadata": {},
   "outputs": [],
   "source": [
    "import json\n",
    "\n",
    "data = {\n",
    "    \"president\": {\n",
    "        \"name\": \"Zaphod Beeblebrox\",\n",
    "        \"species\": \"Betelgeusian\"\n",
    "    }\n",
    "}\n",
    "\n",
    "with open(\"data_file.json\", \"w\") as write_file:\n",
    "    json.dump(data, write_file)"
   ]
  }
 ],
 "metadata": {
  "kernelspec": {
   "display_name": "Python 3",
   "language": "python",
   "name": "python3"
  },
  "language_info": {
   "codemirror_mode": {
    "name": "ipython",
    "version": 3
   },
   "file_extension": ".py",
   "mimetype": "text/x-python",
   "name": "python",
   "nbconvert_exporter": "python",
   "pygments_lexer": "ipython3",
   "version": "3.10.4"
  }
 },
 "nbformat": 4,
 "nbformat_minor": 5
}
